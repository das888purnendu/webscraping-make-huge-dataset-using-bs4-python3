{
 "cells": [
  {
   "cell_type": "code",
   "execution_count": 8,
   "metadata": {},
   "outputs": [],
   "source": [
    "from bs4 import BeautifulSoup\n",
    "import requests\n",
    "import pandas as pd\n",
    "import time\n",
    "qst=[]\n",
    "qst2=[]\n",
    "ans=[]"
   ]
  },
  {
   "cell_type": "code",
   "execution_count": 9,
   "metadata": {},
   "outputs": [],
   "source": [
    "def dic_get(soup):\n",
    "    \n",
    "    global qst\n",
    "    global qst2\n",
    "    global ans\n",
    "    \n",
    "    qst=[]\n",
    "    qs=[]\n",
    "    for row in soup.findAll('div', attrs = {'class':'entry-content'}):\n",
    "        row\n",
    "    \n",
    "    for i in row.findAll([\"p\",\"pre\"]):\n",
    "        li = (i.text).split(\"\\n\")\n",
    "        if li !=[\"\"]:\n",
    "            if \"View Answer\" not in li:\n",
    "                if (li[0].startswith(\"a) \")):\n",
    "                    qs.extend(li)\n",
    "                    qst.append(qs)\n",
    "                    qs=[]\n",
    "                else:\n",
    "                    qs.extend(li)\n",
    "            elif(\"View Answer\" in li):\n",
    "                li=li[:-1]\n",
    "                qs.extend(li)\n",
    "                qst.append(qs)\n",
    "                qs=[]\n",
    "    ans=[]\n",
    "    for j in row.findAll(\"div\",attrs={'class':'collapseomatic_content'}):\n",
    "        a=(j.text).split(\"\\n\")\n",
    "        a1=a[0]\n",
    "        a2=a[1]\n",
    "        ans.append([a1,a2])\n",
    "\n",
    "    qst[0] = qst[0][1:]\n",
    "    qst_ans = qst\n",
    "    for i in range (0, len(ans)):\n",
    "        qst_ans[i].extend(ans[i])\n",
    "    \n",
    "    \n",
    "    qst2=[[ []*j for j in range(7)] for i in range (len(qst))]\n",
    "    i=0\n",
    "    for qs_set in qst:\n",
    "        for line in qs_set:\n",
    "            if line.upper().startswith(\"A) \"):\n",
    "                qst2[i][1].extend([line])\n",
    "            elif line.upper().startswith(\"B) \"):\n",
    "                qst2[i][2].extend([line])\n",
    "            elif line.upper().startswith(\"C) \"):\n",
    "                qst2[i][3].extend([line])\n",
    "            elif line.upper().startswith(\"D) \"):\n",
    "                qst2[i][4].extend([line])\n",
    "            elif line.lstrip().upper().startswith(\"ANSWER:\"):\n",
    "                qst2[i][5].extend([line.replace(\"Answer: \",'')])\n",
    "            elif line.lstrip().upper().startswith(\"EXPLANATION:\"):\n",
    "                qst2[i][6].extend([line.replace(\"Explanation: \",'')])\n",
    "            else:\n",
    "                qst2[i][0].extend([line])\n",
    "        i+=1\n",
    "    \n",
    "    \n",
    "    return qst2"
   ]
  },
  {
   "cell_type": "code",
   "execution_count": 10,
   "metadata": {},
   "outputs": [],
   "source": [
    "def crt_csv(res):\n",
    "    csv_current = pd.DataFrame(res,columns=['Qstn','A','B','C','D','Ans','Sol'])\n",
    "    return (csv_current)"
   ]
  },
  {
   "cell_type": "code",
   "execution_count": 11,
   "metadata": {},
   "outputs": [],
   "source": [
    "def urls(URL):\n",
    "    r = requests.get(URL) \n",
    "    soup = BeautifulSoup(r.content, 'html5lib')\n",
    "    return (soup)"
   ]
  },
  {
   "cell_type": "code",
   "execution_count": 12,
   "metadata": {},
   "outputs": [],
   "source": [
    "URL = \"https://www.---------.com/python-questions-answers-exception-handling-3/\"\n",
    "r = requests.get(URL) \n",
    "soup = BeautifulSoup(r.content, 'html5lib')\n",
    "row = soup.findAll('div', attrs = {'class':'sf-postw-category'})\n",
    "links=[]\n",
    "for a in row[1].findAll('a'):\n",
    "    links.append(a['href'])  #Getting the all links\n",
    "csv_main = pd.DataFrame(columns=['Qstn','A','B','C','D','Ans','Sol'])"
   ]
  },
  {
   "cell_type": "code",
   "execution_count": 21,
   "metadata": {},
   "outputs": [
    {
     "name": "stdout",
     "output_type": "stream",
     "text": [
      "Done -  99 Classes & Objects\n",
      "Done -  100 Classes & Objects Questions and Answers\n",
      "Done -  101 Inheritance\n",
      "Done -  102 Inheritance Questions and Answers\n",
      "Done -  103 Polymorphism\n",
      "Done -  104 Encapsulation\n",
      "Done -  105 Exception Handling\n",
      "Done -  106 Exception Handling Questions and Answers\n",
      "Done -  107 Exception Handling Interview Questions and Answers\n"
     ]
    }
   ],
   "source": [
    "no=98\n",
    "for i in links2:\n",
    "    no+=1\n",
    "    soup = urls(i)\n",
    "    title = soup.title.text.split(\" - \")[0]\n",
    "    res = dic_get(soup)\n",
    "    csv_current = crt_csv(res)\n",
    "    csv_current.to_csv('pyth-qst/'+str(no)+'. '+title+'.csv')\n",
    "    csv_main = pd.concat([csv_main,csv_current])\n",
    "    \n",
    "    print(\"Done - \",no,title)\n",
    "    time.sleep(3)"
   ]
  },
  {
   "cell_type": "code",
   "execution_count": 27,
   "metadata": {},
   "outputs": [],
   "source": [
    "URL = \"https://www.------.com/python-interview-questions-answers-experienced/\"\n",
    "r = requests.get(URL) \n",
    "soup = BeautifulSoup(r.content, 'html5lib')\n",
    "\n",
    "qst=[]\n",
    "qs=[]\n",
    "for row in soup.findAll('div', attrs = {'class':'entry-content'}):\n",
    "    row\n",
    "\n",
    "for i in row.findAll([\"p\",\"pre\"]):\n",
    "    li = (i.text).split(\"\\n\")\n",
    "    if li !=[\"\"]:\n",
    "        if \"View Answer\" not in li:\n",
    "            if (li[0].startswith(\"a) \")):\n",
    "                qs.extend(li)\n",
    "                qst.append(qs)\n",
    "                qs=[]\n",
    "            else:\n",
    "                qs.extend(li)\n",
    "        elif(\"View Answer\" in li):\n",
    "            li=li[:-1]\n",
    "            qs.extend(li)\n",
    "            qst.append(qs)\n",
    "            qs=[]\n",
    "ans=[]\n",
    "for j in row.findAll(\"div\",attrs={'class':'collapseomatic_content'}):\n",
    "    a=(j.text).split(\"\\n\")\n",
    "    a1=a[0]\n",
    "    a2=a[1]\n",
    "    ans.append([a1,a2])"
   ]
  },
  {
   "cell_type": "code",
   "execution_count": null,
   "metadata": {},
   "outputs": [],
   "source": []
  }
 ],
 "metadata": {
  "kernelspec": {
   "display_name": "Python 3",
   "language": "python",
   "name": "python3"
  },
  "language_info": {
   "codemirror_mode": {
    "name": "ipython",
    "version": 3
   },
   "file_extension": ".py",
   "mimetype": "text/x-python",
   "name": "python",
   "nbconvert_exporter": "python",
   "pygments_lexer": "ipython3",
   "version": "3.7.3"
  }
 },
 "nbformat": 4,
 "nbformat_minor": 2
}
